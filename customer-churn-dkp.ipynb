{
 "cells": [
  {
   "cell_type": "code",
   "execution_count": 1,
   "id": "c494ad90",
   "metadata": {
    "_execution_state": "idle",
    "_uuid": "051d70d956493feee0c6d64651c6a088724dca2a",
    "execution": {
     "iopub.execute_input": "2023-12-26T03:58:38.285826Z",
     "iopub.status.busy": "2023-12-26T03:58:38.283003Z",
     "iopub.status.idle": "2023-12-26T03:58:42.741376Z",
     "shell.execute_reply": "2023-12-26T03:58:42.738785Z"
    },
    "papermill": {
     "duration": 4.474063,
     "end_time": "2023-12-26T03:58:42.744607",
     "exception": false,
     "start_time": "2023-12-26T03:58:38.270544",
     "status": "completed"
    },
    "tags": []
   },
   "outputs": [
    {
     "name": "stderr",
     "output_type": "stream",
     "text": [
      "── \u001b[1mAttaching core tidyverse packages\u001b[22m ──────────────────────── tidyverse 2.0.0 ──\n",
      "\u001b[32m✔\u001b[39m \u001b[34mdplyr    \u001b[39m 1.1.4     \u001b[32m✔\u001b[39m \u001b[34mreadr    \u001b[39m 2.1.4\n",
      "\u001b[32m✔\u001b[39m \u001b[34mforcats  \u001b[39m 1.0.0     \u001b[32m✔\u001b[39m \u001b[34mstringr  \u001b[39m 1.5.1\n",
      "\u001b[32m✔\u001b[39m \u001b[34mggplot2  \u001b[39m 3.4.4     \u001b[32m✔\u001b[39m \u001b[34mtibble   \u001b[39m 3.2.1\n",
      "\u001b[32m✔\u001b[39m \u001b[34mlubridate\u001b[39m 1.9.3     \u001b[32m✔\u001b[39m \u001b[34mtidyr    \u001b[39m 1.3.0\n",
      "\u001b[32m✔\u001b[39m \u001b[34mpurrr    \u001b[39m 1.0.2     \n",
      "── \u001b[1mConflicts\u001b[22m ────────────────────────────────────────── tidyverse_conflicts() ──\n",
      "\u001b[31m✖\u001b[39m \u001b[34mdplyr\u001b[39m::\u001b[32mfilter()\u001b[39m masks \u001b[34mstats\u001b[39m::filter()\n",
      "\u001b[31m✖\u001b[39m \u001b[34mdplyr\u001b[39m::\u001b[32mlag()\u001b[39m    masks \u001b[34mstats\u001b[39m::lag()\n",
      "\u001b[36mℹ\u001b[39m Use the conflicted package (\u001b[3m\u001b[34m<http://conflicted.r-lib.org/>\u001b[39m\u001b[23m) to force all conflicts to become errors\n",
      "corrplot 0.92 loaded\n",
      "\n",
      "Loading required package: lattice\n",
      "\n",
      "\n",
      "Attaching package: ‘caret’\n",
      "\n",
      "\n",
      "The following object is masked from ‘package:purrr’:\n",
      "\n",
      "    lift\n",
      "\n",
      "\n",
      "The following object is masked from ‘package:httr’:\n",
      "\n",
      "    progress\n",
      "\n",
      "\n"
     ]
    },
    {
     "data": {
      "text/html": [
       "'customer-churn'"
      ],
      "text/latex": [
       "'customer-churn'"
      ],
      "text/markdown": [
       "'customer-churn'"
      ],
      "text/plain": [
       "[1] \"customer-churn\""
      ]
     },
     "metadata": {},
     "output_type": "display_data"
    }
   ],
   "source": [
    "# This R environment comes with many helpful analytics packages installed\n",
    "# It is defined by the kaggle/rstats Docker image: https://github.com/kaggle/docker-rstats\n",
    "# For example, here's a helpful package to load\n",
    "\n",
    "library(tidyverse) # metapackage of all tidyverse packages\n",
    "library(corrplot)\n",
    "library(caret)\n",
    "library(dplyr)\n",
    "library(ggplot2)\n",
    "\n",
    "# Input data files are available in the read-only \"../input/\" directory\n",
    "# For example, running this (by clicking run or pressing Shift+Enter) will list all files under the input directory\n",
    "\n",
    "list.files(path = \"../input\")\n",
    "\n",
    "# You can write up to 20GB to the current directory (/kaggle/working/) that gets preserved as output when you create a version using \"Save & Run All\" \n",
    "# You can also write temporary files to /kaggle/temp/, but they won't be saved outside of the current session"
   ]
  },
  {
   "cell_type": "code",
   "execution_count": 2,
   "id": "bb89ccda",
   "metadata": {
    "execution": {
     "iopub.execute_input": "2023-12-26T03:58:42.821666Z",
     "iopub.status.busy": "2023-12-26T03:58:42.773197Z",
     "iopub.status.idle": "2023-12-26T03:58:42.898709Z",
     "shell.execute_reply": "2023-12-26T03:58:42.896075Z"
    },
    "papermill": {
     "duration": 0.143554,
     "end_time": "2023-12-26T03:58:42.901895",
     "exception": false,
     "start_time": "2023-12-26T03:58:42.758341",
     "status": "completed"
    },
    "tags": []
   },
   "outputs": [
    {
     "data": {
      "text/html": [
       "<style>\n",
       ".list-inline {list-style: none; margin:0; padding: 0}\n",
       ".list-inline>li {display: inline-block}\n",
       ".list-inline>li:not(:last-child)::after {content: \"\\00b7\"; padding: 0 .5ex}\n",
       "</style>\n",
       "<ol class=list-inline><li>900</li><li>10</li></ol>\n"
      ],
      "text/latex": [
       "\\begin{enumerate*}\n",
       "\\item 900\n",
       "\\item 10\n",
       "\\end{enumerate*}\n"
      ],
      "text/markdown": [
       "1. 900\n",
       "2. 10\n",
       "\n",
       "\n"
      ],
      "text/plain": [
       "[1] 900  10"
      ]
     },
     "metadata": {},
     "output_type": "display_data"
    },
    {
     "data": {
      "text/html": [
       "<table class=\"dataframe\">\n",
       "<caption>A data.frame: 6 × 10</caption>\n",
       "<thead>\n",
       "\t<tr><th></th><th scope=col>Names</th><th scope=col>Age</th><th scope=col>Total_Purchase</th><th scope=col>Account_Manager</th><th scope=col>Years</th><th scope=col>Num_Sites</th><th scope=col>Onboard_date</th><th scope=col>Location</th><th scope=col>Company</th><th scope=col>Churn</th></tr>\n",
       "\t<tr><th></th><th scope=col>&lt;chr&gt;</th><th scope=col>&lt;dbl&gt;</th><th scope=col>&lt;dbl&gt;</th><th scope=col>&lt;int&gt;</th><th scope=col>&lt;dbl&gt;</th><th scope=col>&lt;dbl&gt;</th><th scope=col>&lt;chr&gt;</th><th scope=col>&lt;chr&gt;</th><th scope=col>&lt;chr&gt;</th><th scope=col>&lt;int&gt;</th></tr>\n",
       "</thead>\n",
       "<tbody>\n",
       "\t<tr><th scope=row>1</th><td>Cameron Williams</td><td>42</td><td>11066.80</td><td>0</td><td>7.22</td><td> 8</td><td>2013-08-30 07:00:40</td><td>10265 Elizabeth Mission Barkerburgh, AK 89518     </td><td>Harvey LLC                 </td><td>1</td></tr>\n",
       "\t<tr><th scope=row>2</th><td>Kevin Mueller   </td><td>41</td><td>11916.22</td><td>0</td><td>6.50</td><td>11</td><td>2013-08-13 00:38:46</td><td>6157 Frank Gardens Suite 019 Carloshaven, RI 17756</td><td>Wilson PLC                 </td><td>1</td></tr>\n",
       "\t<tr><th scope=row>3</th><td>Eric Lozano     </td><td>38</td><td>12884.75</td><td>0</td><td>6.67</td><td>12</td><td>2016-06-29 06:20:07</td><td>1331 Keith Court Alyssahaven, DE 90114            </td><td>Miller, Johnson and Wallace</td><td>1</td></tr>\n",
       "\t<tr><th scope=row>4</th><td>Phillip White   </td><td>42</td><td> 8010.76</td><td>0</td><td>6.71</td><td>10</td><td>2014-04-22 12:43:12</td><td>13120 Daniel Mount Angelabury, WY 30645-4695      </td><td>Smith Inc                  </td><td>1</td></tr>\n",
       "\t<tr><th scope=row>5</th><td>Cynthia Norton  </td><td>37</td><td> 9191.58</td><td>0</td><td>5.56</td><td> 9</td><td>2016-01-19 15:31:15</td><td>765 Tricia Row Karenshire, MH 71730               </td><td>Love-Jones                 </td><td>1</td></tr>\n",
       "\t<tr><th scope=row>6</th><td>Jessica Williams</td><td>48</td><td>10356.02</td><td>0</td><td>5.12</td><td> 8</td><td>2009-03-03 23:13:37</td><td>6187 Olson Mountains East Vincentborough, PR 74359</td><td>Kelly-Warren               </td><td>1</td></tr>\n",
       "</tbody>\n",
       "</table>\n"
      ],
      "text/latex": [
       "A data.frame: 6 × 10\n",
       "\\begin{tabular}{r|llllllllll}\n",
       "  & Names & Age & Total\\_Purchase & Account\\_Manager & Years & Num\\_Sites & Onboard\\_date & Location & Company & Churn\\\\\n",
       "  & <chr> & <dbl> & <dbl> & <int> & <dbl> & <dbl> & <chr> & <chr> & <chr> & <int>\\\\\n",
       "\\hline\n",
       "\t1 & Cameron Williams & 42 & 11066.80 & 0 & 7.22 &  8 & 2013-08-30 07:00:40 & 10265 Elizabeth Mission Barkerburgh, AK 89518      & Harvey LLC                  & 1\\\\\n",
       "\t2 & Kevin Mueller    & 41 & 11916.22 & 0 & 6.50 & 11 & 2013-08-13 00:38:46 & 6157 Frank Gardens Suite 019 Carloshaven, RI 17756 & Wilson PLC                  & 1\\\\\n",
       "\t3 & Eric Lozano      & 38 & 12884.75 & 0 & 6.67 & 12 & 2016-06-29 06:20:07 & 1331 Keith Court Alyssahaven, DE 90114             & Miller, Johnson and Wallace & 1\\\\\n",
       "\t4 & Phillip White    & 42 &  8010.76 & 0 & 6.71 & 10 & 2014-04-22 12:43:12 & 13120 Daniel Mount Angelabury, WY 30645-4695       & Smith Inc                   & 1\\\\\n",
       "\t5 & Cynthia Norton   & 37 &  9191.58 & 0 & 5.56 &  9 & 2016-01-19 15:31:15 & 765 Tricia Row Karenshire, MH 71730                & Love-Jones                  & 1\\\\\n",
       "\t6 & Jessica Williams & 48 & 10356.02 & 0 & 5.12 &  8 & 2009-03-03 23:13:37 & 6187 Olson Mountains East Vincentborough, PR 74359 & Kelly-Warren                & 1\\\\\n",
       "\\end{tabular}\n"
      ],
      "text/markdown": [
       "\n",
       "A data.frame: 6 × 10\n",
       "\n",
       "| <!--/--> | Names &lt;chr&gt; | Age &lt;dbl&gt; | Total_Purchase &lt;dbl&gt; | Account_Manager &lt;int&gt; | Years &lt;dbl&gt; | Num_Sites &lt;dbl&gt; | Onboard_date &lt;chr&gt; | Location &lt;chr&gt; | Company &lt;chr&gt; | Churn &lt;int&gt; |\n",
       "|---|---|---|---|---|---|---|---|---|---|---|\n",
       "| 1 | Cameron Williams | 42 | 11066.80 | 0 | 7.22 |  8 | 2013-08-30 07:00:40 | 10265 Elizabeth Mission Barkerburgh, AK 89518      | Harvey LLC                  | 1 |\n",
       "| 2 | Kevin Mueller    | 41 | 11916.22 | 0 | 6.50 | 11 | 2013-08-13 00:38:46 | 6157 Frank Gardens Suite 019 Carloshaven, RI 17756 | Wilson PLC                  | 1 |\n",
       "| 3 | Eric Lozano      | 38 | 12884.75 | 0 | 6.67 | 12 | 2016-06-29 06:20:07 | 1331 Keith Court Alyssahaven, DE 90114             | Miller, Johnson and Wallace | 1 |\n",
       "| 4 | Phillip White    | 42 |  8010.76 | 0 | 6.71 | 10 | 2014-04-22 12:43:12 | 13120 Daniel Mount Angelabury, WY 30645-4695       | Smith Inc                   | 1 |\n",
       "| 5 | Cynthia Norton   | 37 |  9191.58 | 0 | 5.56 |  9 | 2016-01-19 15:31:15 | 765 Tricia Row Karenshire, MH 71730                | Love-Jones                  | 1 |\n",
       "| 6 | Jessica Williams | 48 | 10356.02 | 0 | 5.12 |  8 | 2009-03-03 23:13:37 | 6187 Olson Mountains East Vincentborough, PR 74359 | Kelly-Warren                | 1 |\n",
       "\n"
      ],
      "text/plain": [
       "  Names            Age Total_Purchase Account_Manager Years Num_Sites\n",
       "1 Cameron Williams 42  11066.80       0               7.22   8       \n",
       "2 Kevin Mueller    41  11916.22       0               6.50  11       \n",
       "3 Eric Lozano      38  12884.75       0               6.67  12       \n",
       "4 Phillip White    42   8010.76       0               6.71  10       \n",
       "5 Cynthia Norton   37   9191.58       0               5.56   9       \n",
       "6 Jessica Williams 48  10356.02       0               5.12   8       \n",
       "  Onboard_date        Location                                          \n",
       "1 2013-08-30 07:00:40 10265 Elizabeth Mission Barkerburgh, AK 89518     \n",
       "2 2013-08-13 00:38:46 6157 Frank Gardens Suite 019 Carloshaven, RI 17756\n",
       "3 2016-06-29 06:20:07 1331 Keith Court Alyssahaven, DE 90114            \n",
       "4 2014-04-22 12:43:12 13120 Daniel Mount Angelabury, WY 30645-4695      \n",
       "5 2016-01-19 15:31:15 765 Tricia Row Karenshire, MH 71730               \n",
       "6 2009-03-03 23:13:37 6187 Olson Mountains East Vincentborough, PR 74359\n",
       "  Company                     Churn\n",
       "1 Harvey LLC                  1    \n",
       "2 Wilson PLC                  1    \n",
       "3 Miller, Johnson and Wallace 1    \n",
       "4 Smith Inc                   1    \n",
       "5 Love-Jones                  1    \n",
       "6 Kelly-Warren                1    "
      ]
     },
     "metadata": {},
     "output_type": "display_data"
    }
   ],
   "source": [
    "data <- read.csv(\"/kaggle/input/customer-churn/customer_churn.csv\")\n",
    "dim(data)\n",
    "head(data)"
   ]
  },
  {
   "cell_type": "code",
   "execution_count": 3,
   "id": "ebe22151",
   "metadata": {
    "execution": {
     "iopub.execute_input": "2023-12-26T03:58:42.927330Z",
     "iopub.status.busy": "2023-12-26T03:58:42.925193Z",
     "iopub.status.idle": "2023-12-26T03:58:42.969417Z",
     "shell.execute_reply": "2023-12-26T03:58:42.966960Z"
    },
    "papermill": {
     "duration": 0.060528,
     "end_time": "2023-12-26T03:58:42.972747",
     "exception": false,
     "start_time": "2023-12-26T03:58:42.912219",
     "status": "completed"
    },
    "tags": []
   },
   "outputs": [
    {
     "name": "stdout",
     "output_type": "stream",
     "text": [
      "'data.frame':\t900 obs. of  10 variables:\n",
      " $ Names          : chr  \"Cameron Williams\" \"Kevin Mueller\" \"Eric Lozano\" \"Phillip White\" ...\n",
      " $ Age            : num  42 41 38 42 37 48 44 32 43 40 ...\n",
      " $ Total_Purchase : num  11067 11916 12885 8011 9192 ...\n",
      " $ Account_Manager: int  0 0 0 0 0 0 1 1 1 1 ...\n",
      " $ Years          : num  7.22 6.5 6.67 6.71 5.56 5.12 5.23 6.92 5.46 7.11 ...\n",
      " $ Num_Sites      : num  8 11 12 10 9 8 11 9 11 11 ...\n",
      " $ Onboard_date   : chr  \"2013-08-30 07:00:40\" \"2013-08-13 00:38:46\" \"2016-06-29 06:20:07\" \"2014-04-22 12:43:12\" ...\n",
      " $ Location       : chr  \"10265 Elizabeth Mission Barkerburgh, AK 89518\" \"6157 Frank Gardens Suite 019 Carloshaven, RI 17756\" \"1331 Keith Court Alyssahaven, DE 90114\" \"13120 Daniel Mount Angelabury, WY 30645-4695\" ...\n",
      " $ Company        : chr  \"Harvey LLC\" \"Wilson PLC\" \"Miller, Johnson and Wallace\" \"Smith Inc\" ...\n",
      " $ Churn          : int  1 1 1 1 1 1 1 1 1 1 ...\n"
     ]
    }
   ],
   "source": [
    "str(data)"
   ]
  },
  {
   "cell_type": "code",
   "execution_count": 4,
   "id": "66571505",
   "metadata": {
    "execution": {
     "iopub.execute_input": "2023-12-26T03:58:42.999161Z",
     "iopub.status.busy": "2023-12-26T03:58:42.996947Z",
     "iopub.status.idle": "2023-12-26T03:58:43.021503Z",
     "shell.execute_reply": "2023-12-26T03:58:43.018915Z"
    },
    "papermill": {
     "duration": 0.041923,
     "end_time": "2023-12-26T03:58:43.025177",
     "exception": false,
     "start_time": "2023-12-26T03:58:42.983254",
     "status": "completed"
    },
    "tags": []
   },
   "outputs": [],
   "source": [
    "# Store Names, location columns as Person and place\n",
    "Person <- data$Names\n",
    "place <- data$Location"
   ]
  },
  {
   "cell_type": "code",
   "execution_count": 5,
   "id": "98f64886",
   "metadata": {
    "execution": {
     "iopub.execute_input": "2023-12-26T03:58:43.051473Z",
     "iopub.status.busy": "2023-12-26T03:58:43.049375Z",
     "iopub.status.idle": "2023-12-26T03:58:43.073852Z",
     "shell.execute_reply": "2023-12-26T03:58:43.071481Z"
    },
    "papermill": {
     "duration": 0.042184,
     "end_time": "2023-12-26T03:58:43.078041",
     "exception": false,
     "start_time": "2023-12-26T03:58:43.035857",
     "status": "completed"
    },
    "tags": []
   },
   "outputs": [],
   "source": [
    "#convert string columns to factor\n",
    "data$Account_Manager <- as.factor(data$Account_Manager)\n",
    "data$Churn <- as.factor(data$Churn)"
   ]
  },
  {
   "cell_type": "code",
   "execution_count": 6,
   "id": "b1d089b4",
   "metadata": {
    "execution": {
     "iopub.execute_input": "2023-12-26T03:58:43.105210Z",
     "iopub.status.busy": "2023-12-26T03:58:43.103147Z",
     "iopub.status.idle": "2023-12-26T03:58:43.142834Z",
     "shell.execute_reply": "2023-12-26T03:58:43.140393Z"
    },
    "papermill": {
     "duration": 0.058715,
     "end_time": "2023-12-26T03:58:43.147502",
     "exception": false,
     "start_time": "2023-12-26T03:58:43.088787",
     "status": "completed"
    },
    "tags": []
   },
   "outputs": [],
   "source": [
    "#calculate the difference between the onboard date column of the dataframe and the current date as a number of days using mutate() and the difftime() function\n",
    "data <- data %>% \n",
    "mutate(\n",
    "Onboard_date = as.Date(Onboard_date, \"%Y-%m-%d %H:%M:%S\"),\n",
    "Current_date = Sys.Date(),\n",
    "Days_difference = as.numeric(difftime(Current_date, Onboard_date, units = \"days\")))"
   ]
  },
  {
   "cell_type": "code",
   "execution_count": 7,
   "id": "8d40c73c",
   "metadata": {
    "execution": {
     "iopub.execute_input": "2023-12-26T03:58:43.174843Z",
     "iopub.status.busy": "2023-12-26T03:58:43.172491Z",
     "iopub.status.idle": "2023-12-26T03:58:43.204409Z",
     "shell.execute_reply": "2023-12-26T03:58:43.202094Z"
    },
    "papermill": {
     "duration": 0.049852,
     "end_time": "2023-12-26T03:58:43.208509",
     "exception": false,
     "start_time": "2023-12-26T03:58:43.158657",
     "status": "completed"
    },
    "tags": []
   },
   "outputs": [],
   "source": [
    "# Remove the Names and Location columns\n",
    "data$Names <- NULL\n",
    "data$Location <- NULL\n",
    "data$Onboard_date <- NULL\n",
    "data$Current_date <- NULL\n",
    "data$Company <- NULL"
   ]
  },
  {
   "cell_type": "code",
   "execution_count": 8,
   "id": "6d88ca24",
   "metadata": {
    "execution": {
     "iopub.execute_input": "2023-12-26T03:58:43.235090Z",
     "iopub.status.busy": "2023-12-26T03:58:43.233049Z",
     "iopub.status.idle": "2023-12-26T03:58:43.281459Z",
     "shell.execute_reply": "2023-12-26T03:58:43.278564Z"
    },
    "papermill": {
     "duration": 0.065389,
     "end_time": "2023-12-26T03:58:43.284689",
     "exception": false,
     "start_time": "2023-12-26T03:58:43.219300",
     "status": "completed"
    },
    "tags": []
   },
   "outputs": [
    {
     "name": "stdout",
     "output_type": "stream",
     "text": [
      "'data.frame':\t900 obs. of  7 variables:\n",
      " $ Age            : num  42 41 38 42 37 48 44 32 43 40 ...\n",
      " $ Total_Purchase : num  11067 11916 12885 8011 9192 ...\n",
      " $ Account_Manager: Factor w/ 2 levels \"0\",\"1\": 1 1 1 1 1 1 2 2 2 2 ...\n",
      " $ Years          : num  7.22 6.5 6.67 6.71 5.56 5.12 5.23 6.92 5.46 7.11 ...\n",
      " $ Num_Sites      : num  8 11 12 10 9 8 11 9 11 11 ...\n",
      " $ Churn          : Factor w/ 2 levels \"0\",\"1\": 2 2 2 2 2 2 2 2 2 2 ...\n",
      " $ Days_difference: num  3770 3787 2736 3535 2898 ...\n"
     ]
    }
   ],
   "source": [
    "str(data)"
   ]
  },
  {
   "cell_type": "code",
   "execution_count": 9,
   "id": "c3500dd9",
   "metadata": {
    "execution": {
     "iopub.execute_input": "2023-12-26T03:58:43.311964Z",
     "iopub.status.busy": "2023-12-26T03:58:43.310298Z",
     "iopub.status.idle": "2023-12-26T03:58:43.357739Z",
     "shell.execute_reply": "2023-12-26T03:58:43.355007Z"
    },
    "papermill": {
     "duration": 0.064976,
     "end_time": "2023-12-26T03:58:43.361258",
     "exception": false,
     "start_time": "2023-12-26T03:58:43.296282",
     "status": "completed"
    },
    "tags": []
   },
   "outputs": [
    {
     "data": {
      "text/html": [
       "0"
      ],
      "text/latex": [
       "0"
      ],
      "text/markdown": [
       "0"
      ],
      "text/plain": [
       "[1] 0"
      ]
     },
     "metadata": {},
     "output_type": "display_data"
    },
    {
     "data": {
      "text/html": [
       "FALSE"
      ],
      "text/latex": [
       "FALSE"
      ],
      "text/markdown": [
       "FALSE"
      ],
      "text/plain": [
       "[1] FALSE"
      ]
     },
     "metadata": {},
     "output_type": "display_data"
    },
    {
     "data": {
      "text/html": [
       "0"
      ],
      "text/latex": [
       "0"
      ],
      "text/markdown": [
       "0"
      ],
      "text/plain": [
       "[1] 0"
      ]
     },
     "metadata": {},
     "output_type": "display_data"
    },
    {
     "data": {
      "text/html": [
       "FALSE"
      ],
      "text/latex": [
       "FALSE"
      ],
      "text/markdown": [
       "FALSE"
      ],
      "text/plain": [
       "[1] FALSE"
      ]
     },
     "metadata": {},
     "output_type": "display_data"
    }
   ],
   "source": [
    "#check for missing values\n",
    "sum(is.na(data))\n",
    "any(is.na(data))\n",
    "\n",
    "#check for duplicates\n",
    "sum(duplicated(data))\n",
    "any(duplicated(data))"
   ]
  },
  {
   "cell_type": "code",
   "execution_count": 10,
   "id": "65678cd1",
   "metadata": {
    "execution": {
     "iopub.execute_input": "2023-12-26T03:58:43.390360Z",
     "iopub.status.busy": "2023-12-26T03:58:43.388471Z",
     "iopub.status.idle": "2023-12-26T03:58:43.414031Z",
     "shell.execute_reply": "2023-12-26T03:58:43.411219Z"
    },
    "papermill": {
     "duration": 0.043521,
     "end_time": "2023-12-26T03:58:43.417569",
     "exception": false,
     "start_time": "2023-12-26T03:58:43.374048",
     "status": "completed"
    },
    "tags": []
   },
   "outputs": [
    {
     "name": "stdout",
     "output_type": "stream",
     "text": [
      "                         Age Total_Purchase        Years    Num_Sites\n",
      "Age              1.000000000   -0.037208099  0.005625028 -0.006070481\n",
      "Total_Purchase  -0.037208099    1.000000000 -0.005623171 -0.003390004\n",
      "Years            0.005625028   -0.005623171  1.000000000  0.051641665\n",
      "Num_Sites       -0.006070481   -0.003390004  0.051641665  1.000000000\n",
      "Days_difference -0.002604292    0.020518726  0.044916504  0.031829276\n",
      "                Days_difference\n",
      "Age                -0.002604292\n",
      "Total_Purchase      0.020518726\n",
      "Years               0.044916504\n",
      "Num_Sites           0.031829276\n",
      "Days_difference     1.000000000\n"
     ]
    }
   ],
   "source": [
    "# Creating correlation matrix for diamonds dataset\n",
    "correlation_M <- cor(data[,c(1,2,4,5,7)])\n",
    "print(correlation_M)"
   ]
  },
  {
   "cell_type": "code",
   "execution_count": 11,
   "id": "689fba7e",
   "metadata": {
    "execution": {
     "iopub.execute_input": "2023-12-26T03:58:43.444592Z",
     "iopub.status.busy": "2023-12-26T03:58:43.442796Z",
     "iopub.status.idle": "2023-12-26T03:58:44.399585Z",
     "shell.execute_reply": "2023-12-26T03:58:44.396997Z"
    },
    "papermill": {
     "duration": 0.973689,
     "end_time": "2023-12-26T03:58:44.402684",
     "exception": false,
     "start_time": "2023-12-26T03:58:43.428995",
     "status": "completed"
    },
    "tags": []
   },
   "outputs": [
    {
     "data": {
      "image/png": "[encoded data removed]"
     },
     "metadata": {
      "image/png": {
       "height": 420,
       "width": 420
      }
     },
     "output_type": "display_data"
    }
   ],
   "source": [
    "#churn and age\n",
    "ggplot(data, aes(x = factor(Churn), y = Years, fill = Account_Manager)) +\n",
    "    geom_boxplot() +\n",
    "    scale_x_discrete(labels = c(\"Not Churn\", \"Churn\")) +\n",
    "    labs(x = \"Churn\", y = \"Years\", title = \"Churn vs Years by assigned Account Manager\") \n"
   ]
  },
  {
   "cell_type": "markdown",
   "id": "80841843",
   "metadata": {
    "papermill": {
     "duration": 0.012178,
     "end_time": "2023-12-26T03:58:44.426919",
     "exception": false,
     "start_time": "2023-12-26T03:58:44.414741",
     "status": "completed"
    },
    "tags": []
   },
   "source": [
    "As you can see, customers who weren't get the Account Managers has a high probability to leave the company than customers who had Account Managers."
   ]
  },
  {
   "cell_type": "code",
   "execution_count": 12,
   "id": "dc23f1dd",
   "metadata": {
    "execution": {
     "iopub.execute_input": "2023-12-26T03:58:44.456429Z",
     "iopub.status.busy": "2023-12-26T03:58:44.453984Z",
     "iopub.status.idle": "2023-12-26T03:58:44.605432Z",
     "shell.execute_reply": "2023-12-26T03:58:44.602702Z"
    },
    "papermill": {
     "duration": 0.169444,
     "end_time": "2023-12-26T03:58:44.608725",
     "exception": false,
     "start_time": "2023-12-26T03:58:44.439281",
     "status": "completed"
    },
    "tags": []
   },
   "outputs": [
    {
     "data": {
      "image/png": "[encoded data removed]"
     },
     "metadata": {
      "image/png": {
       "height": 420,
       "width": 420
      }
     },
     "output_type": "display_data"
    }
   ],
   "source": [
    "td <- table(data$Churn)\n",
    "\n",
    "#td as percentages\n",
    "rates <- paste(round(prop.table(td) * 100, 1), \"%\")\n",
    "\n",
    "#plot a pie chart to show the proportion of churn and not churn\n",
    "pie(td, labels = rates, main = \"Propotion of Customers\", col = c(\"Light Blue\", \"Blue\"), clockwise = FALSE, cex.main = 3)\n",
    "legend(\"topleft\", c(\"Not Churn\", \"Churn\"), cex = 1 ,fill = c(\"Light blue\", \" Dark Blue\"), border = NA)"
   ]
  },
  {
   "cell_type": "code",
   "execution_count": 13,
   "id": "07f02429",
   "metadata": {
    "execution": {
     "iopub.execute_input": "2023-12-26T03:58:44.639894Z",
     "iopub.status.busy": "2023-12-26T03:58:44.637594Z",
     "iopub.status.idle": "2023-12-26T03:58:44.671637Z",
     "shell.execute_reply": "2023-12-26T03:58:44.668665Z"
    },
    "papermill": {
     "duration": 0.054021,
     "end_time": "2023-12-26T03:58:44.675943",
     "exception": false,
     "start_time": "2023-12-26T03:58:44.621922",
     "status": "completed"
    },
    "tags": []
   },
   "outputs": [
    {
     "data": {
      "text/plain": [
       "     data$Account_Manager\n",
       "Churn   0   1\n",
       "    0 401 349\n",
       "    1  66  84"
      ]
     },
     "metadata": {},
     "output_type": "display_data"
    }
   ],
   "source": [
    "#check weather the churn has a relationship with Account_manager col\n",
    "xtabs(~Churn + data$Account_Manager, data = data)"
   ]
  },
  {
   "cell_type": "code",
   "execution_count": 14,
   "id": "c5cba9f6",
   "metadata": {
    "execution": {
     "iopub.execute_input": "2023-12-26T03:58:44.709569Z",
     "iopub.status.busy": "2023-12-26T03:58:44.707362Z",
     "iopub.status.idle": "2023-12-26T03:58:44.743292Z",
     "shell.execute_reply": "2023-12-26T03:58:44.740868Z"
    },
    "papermill": {
     "duration": 0.056673,
     "end_time": "2023-12-26T03:58:44.747788",
     "exception": false,
     "start_time": "2023-12-26T03:58:44.691115",
     "status": "completed"
    },
    "tags": []
   },
   "outputs": [],
   "source": [
    "# Split the data into training and testing sets\n",
    "set.seed(123)\n",
    "trainIndex <- createDataPartition(data$Churn, p = 0.7, list = FALSE)\n",
    "trainData <- data[trainIndex, ]\n",
    "testData <- data[-trainIndex, ]"
   ]
  },
  {
   "cell_type": "code",
   "execution_count": 15,
   "id": "31e600c5",
   "metadata": {
    "execution": {
     "iopub.execute_input": "2023-12-26T03:58:44.780076Z",
     "iopub.status.busy": "2023-12-26T03:58:44.777806Z",
     "iopub.status.idle": "2023-12-26T03:58:44.867620Z",
     "shell.execute_reply": "2023-12-26T03:58:44.864545Z"
    },
    "papermill": {
     "duration": 0.110473,
     "end_time": "2023-12-26T03:58:44.871941",
     "exception": false,
     "start_time": "2023-12-26T03:58:44.761468",
     "status": "completed"
    },
    "tags": []
   },
   "outputs": [
    {
     "data": {
      "text/html": [
       "<table class=\"dataframe\">\n",
       "<caption>A data.frame: 6 × 7</caption>\n",
       "<thead>\n",
       "\t<tr><th></th><th scope=col>Age</th><th scope=col>Total_Purchase</th><th scope=col>Account_Manager</th><th scope=col>Years</th><th scope=col>Num_Sites</th><th scope=col>Churn</th><th scope=col>Days_difference</th></tr>\n",
       "\t<tr><th></th><th scope=col>&lt;dbl&gt;</th><th scope=col>&lt;dbl&gt;</th><th scope=col>&lt;fct&gt;</th><th scope=col>&lt;dbl&gt;</th><th scope=col>&lt;dbl&gt;</th><th scope=col>&lt;fct&gt;</th><th scope=col>&lt;dbl&gt;</th></tr>\n",
       "</thead>\n",
       "<tbody>\n",
       "\t<tr><th scope=row>1</th><td>42</td><td>11066.80</td><td>0</td><td>7.22</td><td> 8</td><td>1</td><td>3770</td></tr>\n",
       "\t<tr><th scope=row>2</th><td>41</td><td>11916.22</td><td>0</td><td>6.50</td><td>11</td><td>1</td><td>3787</td></tr>\n",
       "\t<tr><th scope=row>3</th><td>38</td><td>12884.75</td><td>0</td><td>6.67</td><td>12</td><td>1</td><td>2736</td></tr>\n",
       "\t<tr><th scope=row>4</th><td>42</td><td> 8010.76</td><td>0</td><td>6.71</td><td>10</td><td>1</td><td>3535</td></tr>\n",
       "\t<tr><th scope=row>5</th><td>37</td><td> 9191.58</td><td>0</td><td>5.56</td><td> 9</td><td>1</td><td>2898</td></tr>\n",
       "\t<tr><th scope=row>6</th><td>48</td><td>10356.02</td><td>0</td><td>5.12</td><td> 8</td><td>1</td><td>5411</td></tr>\n",
       "</tbody>\n",
       "</table>\n"
      ],
      "text/latex": [
       "A data.frame: 6 × 7\n",
       "\\begin{tabular}{r|lllllll}\n",
       "  & Age & Total\\_Purchase & Account\\_Manager & Years & Num\\_Sites & Churn & Days\\_difference\\\\\n",
       "  & <dbl> & <dbl> & <fct> & <dbl> & <dbl> & <fct> & <dbl>\\\\\n",
       "\\hline\n",
       "\t1 & 42 & 11066.80 & 0 & 7.22 &  8 & 1 & 3770\\\\\n",
       "\t2 & 41 & 11916.22 & 0 & 6.50 & 11 & 1 & 3787\\\\\n",
       "\t3 & 38 & 12884.75 & 0 & 6.67 & 12 & 1 & 2736\\\\\n",
       "\t4 & 42 &  8010.76 & 0 & 6.71 & 10 & 1 & 3535\\\\\n",
       "\t5 & 37 &  9191.58 & 0 & 5.56 &  9 & 1 & 2898\\\\\n",
       "\t6 & 48 & 10356.02 & 0 & 5.12 &  8 & 1 & 5411\\\\\n",
       "\\end{tabular}\n"
      ],
      "text/markdown": [
       "\n",
       "A data.frame: 6 × 7\n",
       "\n",
       "| <!--/--> | Age &lt;dbl&gt; | Total_Purchase &lt;dbl&gt; | Account_Manager &lt;fct&gt; | Years &lt;dbl&gt; | Num_Sites &lt;dbl&gt; | Churn &lt;fct&gt; | Days_difference &lt;dbl&gt; |\n",
       "|---|---|---|---|---|---|---|---|\n",
       "| 1 | 42 | 11066.80 | 0 | 7.22 |  8 | 1 | 3770 |\n",
       "| 2 | 41 | 11916.22 | 0 | 6.50 | 11 | 1 | 3787 |\n",
       "| 3 | 38 | 12884.75 | 0 | 6.67 | 12 | 1 | 2736 |\n",
       "| 4 | 42 |  8010.76 | 0 | 6.71 | 10 | 1 | 3535 |\n",
       "| 5 | 37 |  9191.58 | 0 | 5.56 |  9 | 1 | 2898 |\n",
       "| 6 | 48 | 10356.02 | 0 | 5.12 |  8 | 1 | 5411 |\n",
       "\n"
      ],
      "text/plain": [
       "  Age Total_Purchase Account_Manager Years Num_Sites Churn Days_difference\n",
       "1 42  11066.80       0               7.22   8        1     3770           \n",
       "2 41  11916.22       0               6.50  11        1     3787           \n",
       "3 38  12884.75       0               6.67  12        1     2736           \n",
       "4 42   8010.76       0               6.71  10        1     3535           \n",
       "5 37   9191.58       0               5.56   9        1     2898           \n",
       "6 48  10356.02       0               5.12   8        1     5411           "
      ]
     },
     "metadata": {},
     "output_type": "display_data"
    },
    {
     "data": {
      "text/html": [
       "<table class=\"dataframe\">\n",
       "<caption>A data.frame: 6 × 7</caption>\n",
       "<thead>\n",
       "\t<tr><th></th><th scope=col>Age</th><th scope=col>Total_Purchase</th><th scope=col>Account_Manager</th><th scope=col>Years</th><th scope=col>Num_Sites</th><th scope=col>Churn</th><th scope=col>Days_difference</th></tr>\n",
       "\t<tr><th></th><th scope=col>&lt;dbl&gt;</th><th scope=col>&lt;dbl&gt;</th><th scope=col>&lt;fct&gt;</th><th scope=col>&lt;dbl&gt;</th><th scope=col>&lt;dbl&gt;</th><th scope=col>&lt;fct&gt;</th><th scope=col>&lt;dbl&gt;</th></tr>\n",
       "</thead>\n",
       "<tbody>\n",
       "\t<tr><th scope=row>13</th><td>45</td><td> 8988.67</td><td>1</td><td>4.84</td><td>11</td><td>1</td><td>4696</td></tr>\n",
       "\t<tr><th scope=row>16</th><td>38</td><td>10494.82</td><td>1</td><td>6.81</td><td>12</td><td>1</td><td>3079</td></tr>\n",
       "\t<tr><th scope=row>17</th><td>45</td><td> 8213.41</td><td>1</td><td>7.35</td><td>11</td><td>1</td><td>6323</td></tr>\n",
       "\t<tr><th scope=row>21</th><td>41</td><td> 9771.22</td><td>0</td><td>5.81</td><td>11</td><td>1</td><td>3862</td></tr>\n",
       "\t<tr><th scope=row>22</th><td>56</td><td>12217.95</td><td>1</td><td>5.79</td><td>11</td><td>1</td><td>2595</td></tr>\n",
       "\t<tr><th scope=row>26</th><td>54</td><td> 8207.10</td><td>0</td><td>4.26</td><td>11</td><td>1</td><td>3187</td></tr>\n",
       "</tbody>\n",
       "</table>\n"
      ],
      "text/latex": [
       "A data.frame: 6 × 7\n",
       "\\begin{tabular}{r|lllllll}\n",
       "  & Age & Total\\_Purchase & Account\\_Manager & Years & Num\\_Sites & Churn & Days\\_difference\\\\\n",
       "  & <dbl> & <dbl> & <fct> & <dbl> & <dbl> & <fct> & <dbl>\\\\\n",
       "\\hline\n",
       "\t13 & 45 &  8988.67 & 1 & 4.84 & 11 & 1 & 4696\\\\\n",
       "\t16 & 38 & 10494.82 & 1 & 6.81 & 12 & 1 & 3079\\\\\n",
       "\t17 & 45 &  8213.41 & 1 & 7.35 & 11 & 1 & 6323\\\\\n",
       "\t21 & 41 &  9771.22 & 0 & 5.81 & 11 & 1 & 3862\\\\\n",
       "\t22 & 56 & 12217.95 & 1 & 5.79 & 11 & 1 & 2595\\\\\n",
       "\t26 & 54 &  8207.10 & 0 & 4.26 & 11 & 1 & 3187\\\\\n",
       "\\end{tabular}\n"
      ],
      "text/markdown": [
       "\n",
       "A data.frame: 6 × 7\n",
       "\n",
       "| <!--/--> | Age &lt;dbl&gt; | Total_Purchase &lt;dbl&gt; | Account_Manager &lt;fct&gt; | Years &lt;dbl&gt; | Num_Sites &lt;dbl&gt; | Churn &lt;fct&gt; | Days_difference &lt;dbl&gt; |\n",
       "|---|---|---|---|---|---|---|---|\n",
       "| 13 | 45 |  8988.67 | 1 | 4.84 | 11 | 1 | 4696 |\n",
       "| 16 | 38 | 10494.82 | 1 | 6.81 | 12 | 1 | 3079 |\n",
       "| 17 | 45 |  8213.41 | 1 | 7.35 | 11 | 1 | 6323 |\n",
       "| 21 | 41 |  9771.22 | 0 | 5.81 | 11 | 1 | 3862 |\n",
       "| 22 | 56 | 12217.95 | 1 | 5.79 | 11 | 1 | 2595 |\n",
       "| 26 | 54 |  8207.10 | 0 | 4.26 | 11 | 1 | 3187 |\n",
       "\n"
      ],
      "text/plain": [
       "   Age Total_Purchase Account_Manager Years Num_Sites Churn Days_difference\n",
       "13 45   8988.67       1               4.84  11        1     4696           \n",
       "16 38  10494.82       1               6.81  12        1     3079           \n",
       "17 45   8213.41       1               7.35  11        1     6323           \n",
       "21 41   9771.22       0               5.81  11        1     3862           \n",
       "22 56  12217.95       1               5.79  11        1     2595           \n",
       "26 54   8207.10       0               4.26  11        1     3187           "
      ]
     },
     "metadata": {},
     "output_type": "display_data"
    },
    {
     "name": "stdout",
     "output_type": "stream",
     "text": [
      "'data.frame':\t630 obs. of  7 variables:\n",
      " $ Age            : num  42 41 38 42 37 48 44 32 43 40 ...\n",
      " $ Total_Purchase : num  11067 11916 12885 8011 9192 ...\n",
      " $ Account_Manager: Factor w/ 2 levels \"0\",\"1\": 1 1 1 1 1 1 2 2 2 2 ...\n",
      " $ Years          : num  7.22 6.5 6.67 6.71 5.56 5.12 5.23 6.92 5.46 7.11 ...\n",
      " $ Num_Sites      : num  8 11 12 10 9 8 11 9 11 11 ...\n",
      " $ Churn          : Factor w/ 2 levels \"0\",\"1\": 2 2 2 2 2 2 2 2 2 2 ...\n",
      " $ Days_difference: num  3770 3787 2736 3535 2898 ...\n",
      "'data.frame':\t270 obs. of  7 variables:\n",
      " $ Age            : num  45 38 45 41 56 54 35 37 44 38 ...\n",
      " $ Total_Purchase : num  8989 10495 8213 9771 12218 ...\n",
      " $ Account_Manager: Factor w/ 2 levels \"0\",\"1\": 2 2 2 1 2 1 1 2 2 1 ...\n",
      " $ Years          : num  4.84 6.81 7.35 5.81 5.79 4.26 4.42 5.6 5.45 5.83 ...\n",
      " $ Num_Sites      : num  11 12 11 11 11 11 11 10 12 12 ...\n",
      " $ Churn          : Factor w/ 2 levels \"0\",\"1\": 2 2 2 2 2 2 2 2 2 2 ...\n",
      " $ Days_difference: num  4696 3079 6323 3862 2595 ...\n"
     ]
    }
   ],
   "source": [
    "head(trainData)\n",
    "head(testData)\n",
    "str(trainData)\n",
    "str(testData)"
   ]
  },
  {
   "cell_type": "code",
   "execution_count": 16,
   "id": "9d4c2897",
   "metadata": {
    "execution": {
     "iopub.execute_input": "2023-12-26T03:58:44.906253Z",
     "iopub.status.busy": "2023-12-26T03:58:44.904026Z",
     "iopub.status.idle": "2023-12-26T03:58:44.958437Z",
     "shell.execute_reply": "2023-12-26T03:58:44.955949Z"
    },
    "papermill": {
     "duration": 0.075831,
     "end_time": "2023-12-26T03:58:44.962691",
     "exception": false,
     "start_time": "2023-12-26T03:58:44.886860",
     "status": "completed"
    },
    "tags": []
   },
   "outputs": [
    {
     "data": {
      "text/plain": [
       "\n",
       "Call:\n",
       "glm(formula = Churn ~ trainData$Account_Manager, family = \"binomial\", \n",
       "    data = trainData)\n",
       "\n",
       "Deviance Residuals: \n",
       "    Min       1Q   Median       3Q      Max  \n",
       "-0.6335  -0.6335  -0.5766  -0.5766   1.9372  \n",
       "\n",
       "Coefficients:\n",
       "                           Estimate Std. Error z value Pr(>|z|)    \n",
       "(Intercept)                 -1.7101     0.1522 -11.238   <2e-16 ***\n",
       "trainData$Account_Manager1   0.2060     0.2140   0.963    0.336    \n",
       "---\n",
       "Signif. codes:  0 ‘***’ 0.001 ‘**’ 0.01 ‘*’ 0.05 ‘.’ 0.1 ‘ ’ 1\n",
       "\n",
       "(Dispersion parameter for binomial family taken to be 1)\n",
       "\n",
       "    Null deviance: 567.71  on 629  degrees of freedom\n",
       "Residual deviance: 566.78  on 628  degrees of freedom\n",
       "AIC: 570.78\n",
       "\n",
       "Number of Fisher Scoring iterations: 4\n"
      ]
     },
     "metadata": {},
     "output_type": "display_data"
    }
   ],
   "source": [
    "# Train a logistic regression model\n",
    "model <- glm(Churn ~ trainData$Account_Manager, data = trainData, family = \"binomial\")\n",
    "summary(model)"
   ]
  },
  {
   "cell_type": "markdown",
   "id": "6f167d60",
   "metadata": {
    "papermill": {
     "duration": 0.015263,
     "end_time": "2023-12-26T03:58:44.992952",
     "exception": false,
     "start_time": "2023-12-26T03:58:44.977689",
     "status": "completed"
    },
    "tags": []
   },
   "source": [
    "**Account Manager** column and **Churn** columns are not *statistically significant*."
   ]
  },
  {
   "cell_type": "code",
   "execution_count": 17,
   "id": "2463f37c",
   "metadata": {
    "execution": {
     "iopub.execute_input": "2023-12-26T03:58:45.029907Z",
     "iopub.status.busy": "2023-12-26T03:58:45.027709Z",
     "iopub.status.idle": "2023-12-26T03:58:45.070854Z",
     "shell.execute_reply": "2023-12-26T03:58:45.068364Z"
    },
    "papermill": {
     "duration": 0.065625,
     "end_time": "2023-12-26T03:58:45.075041",
     "exception": false,
     "start_time": "2023-12-26T03:58:45.009416",
     "status": "completed"
    },
    "tags": []
   },
   "outputs": [
    {
     "data": {
      "text/plain": [
       "\n",
       "Call:\n",
       "glm(formula = Churn ~ ., family = \"binomial\", data = trainData)\n",
       "\n",
       "Deviance Residuals: \n",
       "    Min       1Q   Median       3Q      Max  \n",
       "-2.3481  -0.4300  -0.2221  -0.0808   3.3921  \n",
       "\n",
       "Coefficients:\n",
       "                   Estimate Std. Error z value Pr(>|z|)    \n",
       "(Intercept)      -1.950e+01  2.060e+00  -9.465  < 2e-16 ***\n",
       "Age               8.661e-02  2.457e-02   3.525 0.000423 ***\n",
       "Total_Purchase    4.591e-06  5.769e-05   0.080 0.936568    \n",
       "Account_Manager1  3.517e-01  2.773e-01   1.268 0.204729    \n",
       "Years             6.154e-01  1.113e-01   5.528 3.24e-08 ***\n",
       "Num_Sites         1.111e+00  1.131e-01   9.819  < 2e-16 ***\n",
       "Days_difference   1.648e-05  1.207e-04   0.136 0.891441    \n",
       "---\n",
       "Signif. codes:  0 ‘***’ 0.001 ‘**’ 0.01 ‘*’ 0.05 ‘.’ 0.1 ‘ ’ 1\n",
       "\n",
       "(Dispersion parameter for binomial family taken to be 1)\n",
       "\n",
       "    Null deviance: 567.71  on 629  degrees of freedom\n",
       "Residual deviance: 344.18  on 623  degrees of freedom\n",
       "AIC: 358.18\n",
       "\n",
       "Number of Fisher Scoring iterations: 6\n"
      ]
     },
     "metadata": {},
     "output_type": "display_data"
    }
   ],
   "source": [
    "# Train a logistic regression model considering all the variables\n",
    "model2 <- glm(Churn ~ ., data = trainData, family = \"binomial\")\n",
    "summary(model2)\n",
    "#age is a significant variable\n",
    "#Year is a significant variable\n",
    "#Num_Sites is a significant variable"
   ]
  },
  {
   "cell_type": "code",
   "execution_count": 18,
   "id": "5dbcac72",
   "metadata": {
    "execution": {
     "iopub.execute_input": "2023-12-26T03:58:45.110610Z",
     "iopub.status.busy": "2023-12-26T03:58:45.108736Z",
     "iopub.status.idle": "2023-12-26T03:58:45.127142Z",
     "shell.execute_reply": "2023-12-26T03:58:45.125129Z"
    },
    "papermill": {
     "duration": 0.039725,
     "end_time": "2023-12-26T03:58:45.130431",
     "exception": false,
     "start_time": "2023-12-26T03:58:45.090706",
     "status": "completed"
    },
    "tags": []
   },
   "outputs": [],
   "source": [
    "#to plot the model, create new data frame\n",
    "predicted <- data.frame(P.of.churn = model2$fitted.values, Churn = trainData$Churn)"
   ]
  },
  {
   "cell_type": "code",
   "execution_count": 19,
   "id": "431d68d7",
   "metadata": {
    "execution": {
     "iopub.execute_input": "2023-12-26T03:58:45.164309Z",
     "iopub.status.busy": "2023-12-26T03:58:45.162551Z",
     "iopub.status.idle": "2023-12-26T03:58:45.179940Z",
     "shell.execute_reply": "2023-12-26T03:58:45.177908Z"
    },
    "papermill": {
     "duration": 0.038408,
     "end_time": "2023-12-26T03:58:45.183684",
     "exception": false,
     "start_time": "2023-12-26T03:58:45.145276",
     "status": "completed"
    },
    "tags": []
   },
   "outputs": [],
   "source": [
    "#sort low to high\n",
    "predicted <- predicted[order(predicted$P.of.churn, decreasing=FALSE),]"
   ]
  },
  {
   "cell_type": "code",
   "execution_count": 20,
   "id": "01e751d3",
   "metadata": {
    "execution": {
     "iopub.execute_input": "2023-12-26T03:58:45.232674Z",
     "iopub.status.busy": "2023-12-26T03:58:45.217063Z",
     "iopub.status.idle": "2023-12-26T03:58:45.248179Z",
     "shell.execute_reply": "2023-12-26T03:58:45.246174Z"
    },
    "papermill": {
     "duration": 0.053355,
     "end_time": "2023-12-26T03:58:45.252201",
     "exception": false,
     "start_time": "2023-12-26T03:58:45.198846",
     "status": "completed"
    },
    "tags": []
   },
   "outputs": [],
   "source": [
    "#add a column to rank the samples\n",
    "predicted$rank <- 1:nrow(predicted)"
   ]
  },
  {
   "cell_type": "code",
   "execution_count": 21,
   "id": "188f123e",
   "metadata": {
    "execution": {
     "iopub.execute_input": "2023-12-26T03:58:45.286599Z",
     "iopub.status.busy": "2023-12-26T03:58:45.284700Z",
     "iopub.status.idle": "2023-12-26T03:58:46.566022Z",
     "shell.execute_reply": "2023-12-26T03:58:46.563472Z"
    },
    "papermill": {
     "duration": 1.301878,
     "end_time": "2023-12-26T03:58:46.568995",
     "exception": false,
     "start_time": "2023-12-26T03:58:45.267117",
     "status": "completed"
    },
    "tags": []
   },
   "outputs": [
    {
     "name": "stderr",
     "output_type": "stream",
     "text": [
      "\u001b[1m\u001b[22mSaving 12.5 x 6.67 in image\n"
     ]
    },
    {
     "data": {
      "image/png": "[encoded data removed]"
     },
     "metadata": {
      "image/png": {
       "height": 420,
       "width": 420
      }
     },
     "output_type": "display_data"
    }
   ],
   "source": [
    "#plot using ggplot\n",
    "ggplot(predicted, aes(x=rank, y=P.of.churn, color=Churn)) + \n",
    "geom_point(alpha=1, shape=4, stroke=2) + geom_line() + \n",
    "scale_color_manual(values=c(\"red\", \"blue\")) + \n",
    "labs(x=\"Rank\", y=\"Probability of Churn\", title=\"Logistic Regression Model\")\n",
    "\n",
    "#save the graph\n",
    "ggsave(\"F:/VisualStudio/LogisticRegressionModel2.png\")"
   ]
  },
  {
   "cell_type": "markdown",
   "id": "2562fbd7",
   "metadata": {
    "papermill": {
     "duration": 0.016231,
     "end_time": "2023-12-26T03:58:46.602091",
     "exception": false,
     "start_time": "2023-12-26T03:58:46.585860",
     "status": "completed"
    },
    "tags": []
   },
   "source": [
    "# **Apply the model to Test set**"
   ]
  },
  {
   "cell_type": "code",
   "execution_count": 22,
   "id": "f6be0fc5",
   "metadata": {
    "execution": {
     "iopub.execute_input": "2023-12-26T03:58:46.640340Z",
     "iopub.status.busy": "2023-12-26T03:58:46.638082Z",
     "iopub.status.idle": "2023-12-26T03:58:46.672439Z",
     "shell.execute_reply": "2023-12-26T03:58:46.669839Z"
    },
    "papermill": {
     "duration": 0.057229,
     "end_time": "2023-12-26T03:58:46.675832",
     "exception": false,
     "start_time": "2023-12-26T03:58:46.618603",
     "status": "completed"
    },
    "tags": []
   },
   "outputs": [],
   "source": [
    "# Predict the Churn values for the test data\n",
    "predicted <- predict(model2, testData, type = \"response\")\n",
    "\n",
    "# Convert probabilities to binary predictions (Churn or Stay)\n",
    "predicted <- ifelse(predicted > 0.5, \"Stay\", \"Churn\")\n",
    "\n",
    "#make the predicted labels and actual labels as factors\n",
    "predicted <- as.factor(predicted)\n",
    "testData$Churn <- as.factor(testData$Churn)"
   ]
  },
  {
   "cell_type": "code",
   "execution_count": 23,
   "id": "03c01f60",
   "metadata": {
    "execution": {
     "iopub.execute_input": "2023-12-26T03:58:46.713727Z",
     "iopub.status.busy": "2023-12-26T03:58:46.711522Z",
     "iopub.status.idle": "2023-12-26T03:58:46.806117Z",
     "shell.execute_reply": "2023-12-26T03:58:46.803718Z"
    },
    "papermill": {
     "duration": 0.117967,
     "end_time": "2023-12-26T03:58:46.810403",
     "exception": false,
     "start_time": "2023-12-26T03:58:46.692436",
     "status": "completed"
    },
    "tags": []
   },
   "outputs": [
    {
     "data": {
      "text/plain": [
       "Confusion Matrix and Statistics\n",
       "\n",
       "   predicted\n",
       "      0   1\n",
       "  0 218   7\n",
       "  1  20  25\n",
       "                                          \n",
       "               Accuracy : 0.9             \n",
       "                 95% CI : (0.8578, 0.9331)\n",
       "    No Information Rate : 0.8815          \n",
       "    P-Value [Acc > NIR] : 0.20024         \n",
       "                                          \n",
       "                  Kappa : 0.593           \n",
       "                                          \n",
       " Mcnemar's Test P-Value : 0.02092         \n",
       "                                          \n",
       "            Sensitivity : 0.9160          \n",
       "            Specificity : 0.7812          \n",
       "         Pos Pred Value : 0.9689          \n",
       "         Neg Pred Value : 0.5556          \n",
       "             Prevalence : 0.8815          \n",
       "         Detection Rate : 0.8074          \n",
       "   Detection Prevalence : 0.8333          \n",
       "      Balanced Accuracy : 0.8486          \n",
       "                                          \n",
       "       'Positive' Class : 0               \n",
       "                                          "
      ]
     },
     "metadata": {},
     "output_type": "display_data"
    }
   ],
   "source": [
    "#plot the confusion matrix\n",
    "# First, convert the predicted and testData$Churn to factors\n",
    "predicted <- as.factor(predicted)\n",
    "testData$Churn <- as.factor(testData$Churn)\n",
    "\n",
    "# Ensure that the levels of predicted and testData$Churn match\n",
    "levels(predicted) <- levels(testData$Churn)\n",
    "\n",
    "# Now, create the confusion matrix\n",
    "confusion_matrix <- table(testData$Churn, predicted)\n",
    "\n",
    "# Create a confusion matrix plot\n",
    "confusionMatrixPlot <- confusionMatrix(confusion_matrix)\n",
    "confusionMatrixPlot"
   ]
  },
  {
   "cell_type": "markdown",
   "id": "a144d4d7",
   "metadata": {
    "papermill": {
     "duration": 0.017817,
     "end_time": "2023-12-26T03:58:46.845860",
     "exception": false,
     "start_time": "2023-12-26T03:58:46.828043",
     "status": "completed"
    },
    "tags": []
   },
   "source": [
    "# **Evaluate the model**"
   ]
  },
  {
   "cell_type": "markdown",
   "id": "fa3c18c1",
   "metadata": {
    "papermill": {
     "duration": 0.01648,
     "end_time": "2023-12-26T03:58:46.878700",
     "exception": false,
     "start_time": "2023-12-26T03:58:46.862220",
     "status": "completed"
    },
    "tags": []
   },
   "source": []
  },
  {
   "cell_type": "code",
   "execution_count": 24,
   "id": "6ac76bec",
   "metadata": {
    "execution": {
     "iopub.execute_input": "2023-12-26T03:58:46.916363Z",
     "iopub.status.busy": "2023-12-26T03:58:46.914189Z",
     "iopub.status.idle": "2023-12-26T03:58:46.958755Z",
     "shell.execute_reply": "2023-12-26T03:58:46.956190Z"
    },
    "papermill": {
     "duration": 0.066704,
     "end_time": "2023-12-26T03:58:46.961966",
     "exception": false,
     "start_time": "2023-12-26T03:58:46.895262",
     "status": "completed"
    },
    "tags": []
   },
   "outputs": [
    {
     "name": "stdout",
     "output_type": "stream",
     "text": [
      "[1] \"Accuracy of the model is:  0.9\"\n",
      "[1] \"Sensitivity of the model is:  0.555555555555556\"\n",
      "[1] \"Specificity of the model is:  0.968888888888889\"\n"
     ]
    }
   ],
   "source": [
    "# Calculate accuracy\n",
    "accuracy <- sum(diag(confusion_matrix)) / sum(confusion_matrix)\n",
    "\n",
    "# Calculate sensitivity (true positive rate)\n",
    "sensitivity <- confusion_matrix[2, 2] / sum(confusion_matrix[2, ])\n",
    "\n",
    "# Calculate specificity (true negative rate)\n",
    "specificity <- confusion_matrix[1, 1] / sum(confusion_matrix[1, ])\n",
    "\n",
    "# Print the results\n",
    "print(paste(\"Accuracy of the model is: \", accuracy))\n",
    "print(paste(\"Sensitivity of the model is: \", sensitivity))\n",
    "print(paste(\"Specificity of the model is: \",specificity))"
   ]
  },
  {
   "cell_type": "markdown",
   "id": "0e1e59e6",
   "metadata": {
    "papermill": {
     "duration": 0.016597,
     "end_time": "2023-12-26T03:58:46.995027",
     "exception": false,
     "start_time": "2023-12-26T03:58:46.978430",
     "status": "completed"
    },
    "tags": []
   },
   "source": [
    "Accuracy    = 90%\n",
    "Sensitivity = 55.6%\n",
    "Specificity = 96.8%\n",
    "\n",
    "\n",
    "The model has a high accuracy but has relatively lower sensitivity. Depending on the nature of our problem, we want to investigate why sensitivity is low and whether it aligns with our goals. For some applications, a balance between sensitivity and specificity might be crucial, while in others, one metric might be more important than the other. It's often useful to consider the specific requirements and implications of *false positives* and *false negatives* in our particular use case."
   ]
  }
 ],
 "metadata": {
  "kaggle": {
   "accelerator": "none",
   "dataSources": [
    {
     "datasetId": 273797,
     "sourceId": 567086,
     "sourceType": "datasetVersion"
    }
   ],
   "dockerImageVersionId": 30618,
   "isGpuEnabled": false,
   "isInternetEnabled": false,
   "language": "r",
   "sourceType": "notebook"
  },
  "kernelspec": {
   "display_name": "R",
   "language": "R",
   "name": "ir"
  },
  "language_info": {
   "codemirror_mode": "r",
   "file_extension": ".r",
   "mimetype": "text/x-r-source",
   "name": "R",
   "pygments_lexer": "r",
   "version": "4.0.5"
  },
  "papermill": {
   "default_parameters": {},
   "duration": 13.165668,
   "end_time": "2023-12-26T03:58:47.141261",
   "environment_variables": {},
   "exception": null,
   "input_path": "__notebook__.ipynb",
   "output_path": "__notebook__.ipynb",
   "parameters": {},
   "start_time": "2023-12-26T03:58:33.975593",
   "version": "2.5.0"
  }
 },
 "nbformat": 4,
 "nbformat_minor": 5
}
